{
 "cells": [
  {
   "cell_type": "code",
   "execution_count": null,
   "metadata": {},
   "outputs": [],
   "source": [
    "# 1. Initiaing the experiment__________________________________________________________\n",
    "# Run once in the begining of the session. Follow the dialog box.\n",
    "from Initiation import *"
   ]
  },
  {
   "cell_type": "code",
   "execution_count": null,
   "metadata": {},
   "outputs": [],
   "source": [
    "# 2. Practice__________________________________________________________\n",
    "# The practice block was removed from the tutorial codes for simplicity."
   ]
  },
  {
   "cell_type": "code",
   "execution_count": null,
   "metadata": {},
   "outputs": [],
   "source": [
    "# 3. Experiment Blocks__________________________________________________________\n",
    "from RunExperiment import *\n",
    "run_experiment_block(block_cnt,\n",
    "                     cond2scene,\n",
    "                     instructionScene,\n",
    "                     trials,\n",
    "                     fixation_led_origin,\n",
    "                     resp_collect_init,\n",
    "                     timeout,\n",
    "                     ITI,\n",
    "                     settling_delay,\n",
    "                     participant_directory)"
   ]
  }
 ],
 "metadata": {
  "kernelspec": {
   "display_name": "AudioDome",
   "language": "python",
   "name": "python3"
  },
  "language_info": {
   "codemirror_mode": {
    "name": "ipython",
    "version": 3
   },
   "file_extension": ".py",
   "mimetype": "text/x-python",
   "name": "python",
   "nbconvert_exporter": "python",
   "pygments_lexer": "ipython3",
   "version": "3.10.11"
  }
 },
 "nbformat": 4,
 "nbformat_minor": 2
}
